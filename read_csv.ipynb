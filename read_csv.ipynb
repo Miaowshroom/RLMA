{
 "cells": [
  {
   "cell_type": "code",
   "execution_count": 3,
   "metadata": {},
   "outputs": [],
   "source": [
    "import pandas\n",
    "import glob"
   ]
  },
  {
   "cell_type": "code",
   "execution_count": 126,
   "metadata": {},
   "outputs": [],
   "source": [
    "result_folder = \"/Users/wenmiao.hu/Downloads/SAC-discrete/SAC_discrete/Breakout/FSA_1_TCA_0.6129\"\n",
    "result_folder = \"/Users/wenmiao.hu/Downloads/SAC-discrete/SAC_discrete/BeamRider/FSA_1_TCA_0.4768\""
   ]
  },
  {
   "cell_type": "code",
   "execution_count": 127,
   "metadata": {},
   "outputs": [],
   "source": [
    "score_list = (glob.glob(f\"{result_folder}/*_attacks*\"))"
   ]
  },
  {
   "cell_type": "code",
   "execution_count": 128,
   "metadata": {},
   "outputs": [],
   "source": [
    "column_base = [\"x\", \"y\", \"pixel\"]\n",
    "reward_column_base = [\"rewards\", \"attack_num\", \"length\"]"
   ]
  },
  {
   "cell_type": "code",
   "execution_count": 129,
   "metadata": {},
   "outputs": [
    {
     "name": "stdout",
     "output_type": "stream",
     "text": [
      "run_3_attacks.csv\n",
      "              x_1         y_1     pixel_1\n",
      "count  559.000000  559.000000  559.000000\n",
      "mean     0.387124    0.542750    0.910492\n",
      "std      0.211137    0.180915    0.176353\n",
      "min      0.000000    0.000000    0.000000\n",
      "25%      0.226484    0.401929    0.887911\n",
      "50%      0.308643    0.542547    1.000000\n",
      "75%      0.524593    0.677629    1.000000\n",
      "max      1.000000    1.000000    1.000000\n",
      "   rewards  attack_num  length\n",
      "0    852.0       559.0  1446.0\n",
      "x_1        True\n",
      "y_1        True\n",
      "pixel_1    True\n",
      "dtype: bool\n",
      "x_1        False\n",
      "y_1        False\n",
      "pixel_1    False\n",
      "dtype: bool x_1        False\n",
      "y_1        False\n",
      "pixel_1    False\n",
      "dtype: bool\n",
      "run_5_attacks.csv\n",
      "               x_1          y_1      pixel_1\n",
      "count  1030.000000  1030.000000  1030.000000\n",
      "mean      0.369113     0.528616     0.926096\n",
      "std       0.197417     0.178136     0.151115\n",
      "min       0.000000     0.000000     0.000000\n",
      "25%       0.228457     0.386336     0.915640\n",
      "50%       0.287053     0.528916     1.000000\n",
      "75%       0.500000     0.672289     1.000000\n",
      "max       1.000000     1.000000     1.000000\n",
      "   rewards  attack_num  length\n",
      "0   1284.0      1030.0  2080.0\n",
      "x_1        True\n",
      "y_1        True\n",
      "pixel_1    True\n",
      "dtype: bool\n",
      "x_1        False\n",
      "y_1        False\n",
      "pixel_1    False\n",
      "dtype: bool x_1        False\n",
      "y_1        False\n",
      "pixel_1    False\n",
      "dtype: bool\n",
      "run_2_attacks.csv\n",
      "              x_1         y_1     pixel_1\n",
      "count  973.000000  973.000000  973.000000\n",
      "mean     0.363048    0.540188    0.932247\n",
      "std      0.197270    0.172825    0.136170\n",
      "min      0.000000    0.000000    0.000000\n",
      "25%      0.231556    0.409628    0.924880\n",
      "50%      0.283219    0.543152    1.000000\n",
      "75%      0.494725    0.679402    1.000000\n",
      "max      1.000000    0.916794    1.000000\n",
      "   rewards  attack_num  length\n",
      "0   1380.0       973.0  1937.0\n",
      "x_1        True\n",
      "y_1        True\n",
      "pixel_1    True\n",
      "dtype: bool\n",
      "x_1        False\n",
      "y_1        False\n",
      "pixel_1    False\n",
      "dtype: bool x_1        False\n",
      "y_1        False\n",
      "pixel_1    False\n",
      "dtype: bool\n",
      "run_1_attacks.csv\n",
      "               x_1          y_1      pixel_1\n",
      "count  1161.000000  1161.000000  1161.000000\n",
      "mean      0.379527     0.521923     0.930501\n",
      "std       0.203678     0.181486     0.145064\n",
      "min       0.000000     0.000000     0.000000\n",
      "25%       0.233917     0.380229     0.921011\n",
      "50%       0.292677     0.514908     1.000000\n",
      "75%       0.500000     0.665634     1.000000\n",
      "max       1.000000     1.000000     1.000000\n",
      "   rewards  attack_num  length\n",
      "0   1380.0      1161.0  2234.0\n",
      "x_1        True\n",
      "y_1        True\n",
      "pixel_1    True\n",
      "dtype: bool\n",
      "x_1        False\n",
      "y_1        False\n",
      "pixel_1    False\n",
      "dtype: bool x_1        False\n",
      "y_1        False\n",
      "pixel_1    False\n",
      "dtype: bool\n",
      "run_4_attacks.csv\n",
      "               x_1          y_1      pixel_1\n",
      "count  1456.000000  1456.000000  1456.000000\n",
      "mean      0.365155     0.530750     0.921419\n",
      "std       0.193313     0.175070     0.164626\n",
      "min       0.000000     0.000000     0.000000\n",
      "25%       0.231779     0.391402     0.922767\n",
      "50%       0.284166     0.530413     1.000000\n",
      "75%       0.500000     0.668314     1.000000\n",
      "max       1.000000     1.000000     1.000000\n",
      "   rewards  attack_num  length\n",
      "0   1692.0      1456.0  2885.0\n",
      "x_1        True\n",
      "y_1        True\n",
      "pixel_1    True\n",
      "dtype: bool\n",
      "x_1        False\n",
      "y_1        False\n",
      "pixel_1    False\n",
      "dtype: bool x_1        False\n",
      "y_1        False\n",
      "pixel_1    False\n",
      "dtype: bool\n"
     ]
    }
   ],
   "source": [
    "for game in score_list:\n",
    "    attack_df = pandas.read_csv(game, header=None)\n",
    "    reward_df = pandas.read_csv(game.replace(\"_attacks\", \"\"), header=None).T\n",
    "    reward_df.columns = reward_column_base\n",
    "    num_attacks= int(len(attack_df.columns)/3)\n",
    "    columns = []\n",
    "    for i in range(1,num_attacks+1):\n",
    "        add_columns = [f\"{item}_{i}\" for item in column_base]\n",
    "        columns = columns + add_columns\n",
    "    attack_df.columns = columns\n",
    "    print(game.split(\"/\")[-1])\n",
    "    print(attack_df.describe())\n",
    "    print(reward_df)\n",
    "    print(reward_df.attack_num.values[0] == attack_df.count())\n",
    "    print(attack_df.max()>1, attack_df.min()<0)"
   ]
  },
  {
   "cell_type": "code",
   "execution_count": 118,
   "metadata": {},
   "outputs": [
    {
     "data": {
      "text/html": [
       "<div>\n",
       "<style scoped>\n",
       "    .dataframe tbody tr th:only-of-type {\n",
       "        vertical-align: middle;\n",
       "    }\n",
       "\n",
       "    .dataframe tbody tr th {\n",
       "        vertical-align: top;\n",
       "    }\n",
       "\n",
       "    .dataframe thead th {\n",
       "        text-align: right;\n",
       "    }\n",
       "</style>\n",
       "<table border=\"1\" class=\"dataframe\">\n",
       "  <thead>\n",
       "    <tr style=\"text-align: right;\">\n",
       "      <th></th>\n",
       "      <th>rewards</th>\n",
       "      <th>attack_num</th>\n",
       "      <th>length</th>\n",
       "    </tr>\n",
       "  </thead>\n",
       "  <tbody>\n",
       "    <tr>\n",
       "      <th>0</th>\n",
       "      <td>0.0</td>\n",
       "      <td>121.0</td>\n",
       "      <td>153.0</td>\n",
       "    </tr>\n",
       "  </tbody>\n",
       "</table>\n",
       "</div>"
      ],
      "text/plain": [
       "   rewards  attack_num  length\n",
       "0      0.0       121.0   153.0"
      ]
     },
     "execution_count": 118,
     "metadata": {},
     "output_type": "execute_result"
    }
   ],
   "source": [
    "reward_df"
   ]
  },
  {
   "cell_type": "code",
   "execution_count": 119,
   "metadata": {},
   "outputs": [
    {
     "data": {
      "text/plain": [
       "x_1        True\n",
       "y_1        True\n",
       "pixel_1    True\n",
       "dtype: bool"
      ]
     },
     "execution_count": 119,
     "metadata": {},
     "output_type": "execute_result"
    }
   ],
   "source": [
    "reward_df.attack_num.values[0] == attack_df.count()"
   ]
  },
  {
   "cell_type": "code",
   "execution_count": 120,
   "metadata": {},
   "outputs": [
    {
     "data": {
      "text/plain": [
       "(x_1        False\n",
       " y_1        False\n",
       " pixel_1    False\n",
       " dtype: bool,\n",
       " x_1        False\n",
       " y_1        False\n",
       " pixel_1    False\n",
       " dtype: bool)"
      ]
     },
     "execution_count": 120,
     "metadata": {},
     "output_type": "execute_result"
    }
   ],
   "source": [
    "attack_df.max()>1, attack_df.min()<0"
   ]
  },
  {
   "cell_type": "code",
   "execution_count": null,
   "metadata": {},
   "outputs": [],
   "source": []
  },
  {
   "cell_type": "code",
   "execution_count": null,
   "metadata": {},
   "outputs": [],
   "source": []
  }
 ],
 "metadata": {
  "kernelspec": {
   "display_name": "Python [conda env:sac]",
   "language": "python",
   "name": "conda-env-sac-py"
  },
  "language_info": {
   "codemirror_mode": {
    "name": "ipython",
    "version": 3
   },
   "file_extension": ".py",
   "mimetype": "text/x-python",
   "name": "python",
   "nbconvert_exporter": "python",
   "pygments_lexer": "ipython3",
   "version": "3.7.7"
  }
 },
 "nbformat": 4,
 "nbformat_minor": 2
}
